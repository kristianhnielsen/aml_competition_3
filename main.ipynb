{
 "cells": [
  {
   "cell_type": "markdown",
   "id": "781c1c00",
   "metadata": {},
   "source": [
    "# Columns Description\n"
   ]
  },
  {
   "cell_type": "markdown",
   "id": "478d7b26",
   "metadata": {},
   "source": [
    "- HighBP - Binary - 0 = no high BP 1 = high BP\n",
    "- HighChol - Binary- 0 = no high cholesterol 1 = high cholesterol\n",
    "- CholCheck - Binary - 0 = no cholesterol check in 5 years 1 = yes cholesterol check in 5 years\n",
    "- BMI - Integer - Body Mass Index\n",
    "- Smoker - Binary - Have you smoked at least 100 cigarettes in your entire life? 0 = no 1 = yes\n",
    "- Stroke - Binary - (Ever told) you had a stroke. 0 = no 1 = yes\n",
    "- HeartDiseaseorAttack - Binary - coronary heart disease (CHD) or myocardial infarction (MI) 0 = no 1 = yes\n",
    "- PhysActivity - Binary - physical activity in past 30 days - not including job 0 = no 1 = yes\n",
    "- Fruits - Binary - Consume Fruit 1 or more times per day 0 = no 1 = yes\n",
    "- Veggies - Binary - Consume Vegetables 1 or more times per day 0 = no 1 = yes\n",
    "- HvyAlcoholConsump - Binary - Heavy drinkers (adult men having more than 14 drinks per week and adult women having more than 7 drinks per week) 0 = no 1 = yes\n",
    "- AnyHealthcare - Binary - Have any kind of health care coverage, including health insurance, prepaid plans such as HMO, etc. 0 = no 1 = yes\n",
    "- NoDocbcCost -Binary - Was there a time in the past 12 months when you needed to see a doctor but could not because of cost? 0 = no 1 = yes\n",
    "- GenHlth - Integer - Would you say that in general your health is: scale 1-5 1 = excellent 2 = very good 3 = good 4 = fair 5 = poor\n",
    "- MentHlth - Integer - Now thinking about your mental health, which includes stress, depression, and problems with emotions, for how many days during the past 30 days was your mental health not good? scale 1-30 days\n",
    "- PhysHlth - Integer - Now thinking about your physical health, which includes physical illness and injury, for how many days during the past 30 days was your physical health not good? scale 1-30 days\n",
    "- DiffWalk - Binary - Do you have serious difficulty walking or climbing stairs? 0 = no 1 = yes\n",
    "- Gender - Binary - Female, Male\n"
   ]
  },
  {
   "cell_type": "markdown",
   "id": "d2461c75",
   "metadata": {},
   "source": [
    "# Imports\n"
   ]
  },
  {
   "cell_type": "code",
   "execution_count": 9,
   "id": "cf60b0b0",
   "metadata": {},
   "outputs": [],
   "source": [
    "import pandas as pd\n",
    "import numpy as np\n",
    "import matplotlib.pyplot as plt\n",
    "import tensorflow\n",
    "\n",
    "from keras.callbacks import EarlyStopping\n",
    "from keras.models import Sequential\n",
    "from keras.layers import Dense, Input, BatchNormalization, Dropout\n",
    "from keras.optimizers import Adam, AdamW\n",
    "from keras.regularizers import L1, L2\n",
    "\n",
    "from sklearn.model_selection import train_test_split\n",
    "import mlflow"
   ]
  },
  {
   "cell_type": "markdown",
   "id": "b57cfeb9",
   "metadata": {},
   "source": [
    "# MLFlow\n"
   ]
  },
  {
   "cell_type": "code",
   "execution_count": null,
   "id": "87017a2d",
   "metadata": {},
   "outputs": [],
   "source": []
  },
  {
   "cell_type": "markdown",
   "id": "6df06e09",
   "metadata": {},
   "source": [
    "# Model tracking\n"
   ]
  },
  {
   "cell_type": "code",
   "execution_count": null,
   "id": "662f1dd9",
   "metadata": {},
   "outputs": [],
   "source": [
    "mlflow.tensorflow.autolog(silent=True)  # type: ignore # That's it! 🎉\n",
    "\n",
    "mlflow.set_tracking_uri(\"file:./mlruns\")\n",
    "\n",
    "# Define an experiment name\n",
    "mlflow.set_experiment(\"AML Competition 3\")\n",
    "\n",
    "import absl.logging\n",
    "\n",
    "absl.logging.set_verbosity(absl.logging.ERROR)"
   ]
  },
  {
   "cell_type": "code",
   "execution_count": 11,
   "id": "908030e5",
   "metadata": {},
   "outputs": [
    {
     "data": {
      "text/html": [
       "<pre style=\"white-space:pre;overflow-x:auto;line-height:normal;font-family:Menlo,'DejaVu Sans Mono',consolas,'Courier New',monospace\"></pre>\n"
      ],
      "text/plain": []
     },
     "metadata": {},
     "output_type": "display_data"
    },
    {
     "name": "stdout",
     "output_type": "stream",
     "text": [
      "Epoch 1/10\n",
      "\u001b[1m206/206\u001b[0m \u001b[32m━━━━━━━━━━━━━━━━━━━━\u001b[0m\u001b[37m\u001b[0m \u001b[1m2s\u001b[0m 5ms/step - accuracy: 0.7142 - loss: 1.0236 - val_accuracy: 0.7495 - val_loss: 0.7472\n",
      "Epoch 2/10\n",
      "\u001b[1m206/206\u001b[0m \u001b[32m━━━━━━━━━━━━━━━━━━━━\u001b[0m\u001b[37m\u001b[0m \u001b[1m1s\u001b[0m 4ms/step - accuracy: 0.7377 - loss: 0.7005 - val_accuracy: 0.7495 - val_loss: 0.6595\n",
      "Epoch 3/10\n",
      "\u001b[1m206/206\u001b[0m \u001b[32m━━━━━━━━━━━━━━━━━━━━\u001b[0m\u001b[37m\u001b[0m \u001b[1m1s\u001b[0m 4ms/step - accuracy: 0.7384 - loss: 0.6306 - val_accuracy: 0.6648 - val_loss: 0.6621\n",
      "Epoch 4/10\n",
      "\u001b[1m206/206\u001b[0m \u001b[32m━━━━━━━━━━━━━━━━━━━━\u001b[0m\u001b[37m\u001b[0m \u001b[1m1s\u001b[0m 4ms/step - accuracy: 0.7403 - loss: 0.5953 - val_accuracy: 0.7495 - val_loss: 0.5766\n",
      "Epoch 5/10\n",
      "\u001b[1m206/206\u001b[0m \u001b[32m━━━━━━━━━━━━━━━━━━━━\u001b[0m\u001b[37m\u001b[0m \u001b[1m1s\u001b[0m 4ms/step - accuracy: 0.7438 - loss: 0.5693 - val_accuracy: 0.7495 - val_loss: 0.5623\n",
      "Epoch 6/10\n",
      "\u001b[1m206/206\u001b[0m \u001b[32m━━━━━━━━━━━━━━━━━━━━\u001b[0m\u001b[37m\u001b[0m \u001b[1m1s\u001b[0m 4ms/step - accuracy: 0.7452 - loss: 0.5563 - val_accuracy: 0.7250 - val_loss: 0.5716\n",
      "Epoch 7/10\n",
      "\u001b[1m206/206\u001b[0m \u001b[32m━━━━━━━━━━━━━━━━━━━━\u001b[0m\u001b[37m\u001b[0m \u001b[1m1s\u001b[0m 4ms/step - accuracy: 0.7466 - loss: 0.5468 - val_accuracy: 0.7232 - val_loss: 0.5559\n",
      "Epoch 8/10\n",
      "\u001b[1m206/206\u001b[0m \u001b[32m━━━━━━━━━━━━━━━━━━━━\u001b[0m\u001b[37m\u001b[0m \u001b[1m1s\u001b[0m 4ms/step - accuracy: 0.7465 - loss: 0.5400 - val_accuracy: 0.7552 - val_loss: 0.5183\n",
      "Epoch 9/10\n",
      "\u001b[1m206/206\u001b[0m \u001b[32m━━━━━━━━━━━━━━━━━━━━\u001b[0m\u001b[37m\u001b[0m \u001b[1m1s\u001b[0m 4ms/step - accuracy: 0.7480 - loss: 0.5339 - val_accuracy: 0.7401 - val_loss: 0.5294\n",
      "Epoch 10/10\n",
      "\u001b[1m206/206\u001b[0m \u001b[32m━━━━━━━━━━━━━━━━━━━━\u001b[0m\u001b[37m\u001b[0m \u001b[1m1s\u001b[0m 4ms/step - accuracy: 0.7473 - loss: 0.5300 - val_accuracy: 0.7194 - val_loss: 0.5491\n",
      "\u001b[1m17/17\u001b[0m \u001b[32m━━━━━━━━━━━━━━━━━━━━\u001b[0m\u001b[37m\u001b[0m \u001b[1m0s\u001b[0m 1ms/step - accuracy: 0.7194 - loss: 0.5491 \n",
      "Test accuracy: 0.719\n",
      "Test loss: 0.549\n"
     ]
    }
   ],
   "source": [
    "X_train_raw = pd.read_csv(\"data/X_train.csv\")\n",
    "y_train = pd.read_csv(\"data/y_train.csv\")\n",
    "X_train = X_train_raw.drop(\"ID\", axis=1)\n",
    "\n",
    "# Extract the correct target variable and encode it to numeric (No=0, Yes=1)\n",
    "y = y_train[\"Diabetes\"].map({\"No\": 0, \"Yes\": 1})\n",
    "\n",
    "X_train.drop(columns=[\"Gender\"], inplace=True)\n",
    "\n",
    "test_size = 0.01\n",
    "X_train_split, X_val_split, y_train_split, y_val_split = train_test_split(\n",
    "    X_train, y, test_size=test_size, random_state=42\n",
    ")\n",
    "\n",
    "\n",
    "model = Sequential(\n",
    "    [\n",
    "        Input(shape=(X_train_split.shape[1],)),\n",
    "        Dense(1024, activation=\"relu\", kernel_regularizer=L2(0.001)),\n",
    "        Dense(512, activation=\"relu\", kernel_regularizer=L2(0.001)),\n",
    "        Dense(256, activation=\"relu\", kernel_regularizer=L2(0.001)),\n",
    "        Dense(128, activation=\"relu\", kernel_regularizer=L2(0.001)),\n",
    "        Dense(64, activation=\"relu\", kernel_regularizer=L2(0.001)),\n",
    "        Dense(1, activation=\"sigmoid\"),\n",
    "    ]\n",
    ")\n",
    "model.compile(\n",
    "    optimizer=Adam(),  # type: ignore\n",
    "    loss=\"binary_crossentropy\",\n",
    "    metrics=[\"accuracy\"],\n",
    ")\n",
    "with mlflow.start_run() as run:\n",
    "    history = model.fit(\n",
    "        X_train_split,\n",
    "        y_train_split,\n",
    "        epochs=10,\n",
    "        batch_size=256,\n",
    "        validation_data=(X_val_split, y_val_split),\n",
    "    )\n",
    "\n",
    "    test_loss, test_acc = model.evaluate(X_val_split, y_val_split)\n",
    "    print(f\"Test accuracy: {test_acc:.3f}\")\n",
    "    print(f\"Test loss: {test_loss:.3f}\")\n",
    "\n",
    "    mlflow.log_metric(\"test_size\", test_size)"
   ]
  }
 ],
 "metadata": {
  "kernelspec": {
   "display_name": "aml-competition-3",
   "language": "python",
   "name": "python3"
  },
  "language_info": {
   "codemirror_mode": {
    "name": "ipython",
    "version": 3
   },
   "file_extension": ".py",
   "mimetype": "text/x-python",
   "name": "python",
   "nbconvert_exporter": "python",
   "pygments_lexer": "ipython3",
   "version": "3.13.2"
  }
 },
 "nbformat": 4,
 "nbformat_minor": 5
}
